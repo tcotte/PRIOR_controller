{
 "cells": [
  {
   "cell_type": "code",
   "execution_count": 5,
   "id": "ee877755",
   "metadata": {},
   "outputs": [],
   "source": [
    "import os\n",
    "import numpy as np\n",
    "import json"
   ]
  },
  {
   "cell_type": "code",
   "execution_count": 22,
   "id": "2639d0ad",
   "metadata": {},
   "outputs": [],
   "source": [
    "path_ann = r\"C:\\Users\\tristan_cotte\\Downloads\\171637_detect_circle_legio\\output\\ann\"\n",
    "path_output = r\"C:\\Users\\tristan_cotte\\Pictures\\dataset_legio_box\\ann\"\n",
    "\n",
    "for json_filename in os.listdir(path_ann):\n",
    "    path_file = os.path.join(path_ann, json_filename)\n",
    "    \n",
    "    with open(path_file, 'r') as f:\n",
    "        data = json.load(f)\n",
    "    \n",
    "    rectangles = []\n",
    "    for obj in data['objects']:\n",
    "        if obj['geometryType'] == 'rectangle':\n",
    "            points = obj['points']['exterior']\n",
    "            rectangles.append('{} {} {} {}'.format(points[0][0], points[0][1], points[1][0], points[1][1]))\n",
    "            \n",
    "    txt_filename = json_filename[:-9] + \".txt\"\n",
    "    path_txtfile = os.path.join(path_output, txt_filename)\n",
    "    \n",
    "    f = open(path_txtfile, \"a\")\n",
    "    f.writelines(rectangles)\n",
    "    f.close()\n",
    "            \n",
    "    \n",
    "            "
   ]
  },
  {
   "cell_type": "code",
   "execution_count": 18,
   "id": "1261de54",
   "metadata": {},
   "outputs": [
    {
     "data": {
      "text/plain": [
       "'501.002CHDL3-14-03-2022.txt'"
      ]
     },
     "execution_count": 18,
     "metadata": {},
     "output_type": "execute_result"
    }
   ],
   "source": [
    "json_filename[:-9] + \".txt\""
   ]
  }
 ],
 "metadata": {
  "kernelspec": {
   "display_name": "Python 3 (ipykernel)",
   "language": "python",
   "name": "python3"
  },
  "language_info": {
   "codemirror_mode": {
    "name": "ipython",
    "version": 3
   },
   "file_extension": ".py",
   "mimetype": "text/x-python",
   "name": "python",
   "nbconvert_exporter": "python",
   "pygments_lexer": "ipython3",
   "version": "3.8.15"
  }
 },
 "nbformat": 4,
 "nbformat_minor": 5
}
